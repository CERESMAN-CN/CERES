{
 "cells": [
  {
   "cell_type": "markdown",
   "metadata": {},
   "source": [
    "# rqalpha\n",
    "\n",
    "## Install \n",
    "`pip install -i https://pypi.douban.com/simple rqalpha`"
   ]
  },
  {
   "cell_type": "markdown",
   "metadata": {},
   "source": [
    "## Download Bundle:\n",
    "\n",
    "`rqalpha download-bundle`"
   ]
  },
  {
   "cell_type": "code",
   "execution_count": 3,
   "metadata": {},
   "outputs": [
    {
     "name": "stdout",
     "output_type": "stream",
     "text": [
      "try http://bundle.assets.ricequant.com/bundles_v4/rqbundle_202104.tar.bz2 ...\n",
      "\u001b[?25ldownloading ...  [####################################]  100%          \u001b[?25h\n",
      "Data bundle download successfully in /Users/winshare/.rqalpha/bundle\n"
     ]
    }
   ],
   "source": [
    "!rqalpha download-bundle"
   ]
  },
  {
   "cell_type": "markdown",
   "metadata": {},
   "source": [
    "## Config Generate"
   ]
  },
  {
   "cell_type": "code",
   "execution_count": 4,
   "metadata": {},
   "outputs": [
    {
     "name": "stdout",
     "output_type": "stream",
     "text": [
      "Config file has been generated in /Users/winshare/workspace/Business/config.yml\n"
     ]
    }
   ],
   "source": [
    "!rqalpha generate-config"
   ]
  },
  {
   "cell_type": "code",
   "execution_count": 8,
   "metadata": {},
   "outputs": [
    {
     "name": "stdout",
     "output_type": "stream",
     "text": [
      "rqdatac init failed with error: username/password/addr or uri expected\n"
     ]
    }
   ],
   "source": [
    "!rqalpha update-bundle"
   ]
  },
  {
   "cell_type": "code",
   "execution_count": 2,
   "metadata": {},
   "outputs": [
    {
     "name": "stdout",
     "output_type": "stream",
     "text": [
      "|- version : 0.1.6\n",
      "|- whitelist : ['base', 'extra', 'validator', 'mod']\n",
      "|- base\n",
      "    |- data_bundle_path : /Users/winshare/.rqalpha/bundle\n",
      "    |- strategy_file : strategy.py\n",
      "    |- source_code : None\n",
      "    |- start_date : 2015-06-01\n",
      "    |- end_date : 2050-01-01\n",
      "    |- margin_multiplier : 1\n",
      "    |- run_type : b\n",
      "    |- frequency : 1d\n",
      "    |- persist : False\n",
      "    |- persist_mode : real_time\n",
      "    |- accounts : {'stock': None, 'future': None}\n",
      "    |- market : cn\n",
      "    |- init_positions : {}\n",
      "    |- round_price : False\n",
      "    |- future_info : {}\n",
      "    |- forced_liquidation : True\n",
      "|- extra\n",
      "    |- log_level : info\n",
      "    |- context_vars : None\n",
      "    |- enable_profiler : False\n",
      "    |- is_hold : False\n",
      "    |- locale : zh_Hans_CN\n",
      "    |- logger : []\n"
     ]
    },
    {
     "name": "stderr",
     "output_type": "stream",
     "text": [
      "/Users/winshare/anaconda3/envs/workspace/lib/python3.7/site-packages/ipykernel_launcher.py:4: YAMLLoadWarning: calling yaml.load() without Loader=... is deprecated, as the default Loader is unsafe. Please read https://msg.pyyaml.org/load for full details.\n",
      "  after removing the cwd from sys.path.\n"
     ]
    }
   ],
   "source": [
    "import os \n",
    "import yaml\n",
    "config=open(\"/Users/winshare/workspace/Business/ceres/Document/Notebook/config.yml\",\"r\",encoding=\"utf-8\")\n",
    "config_data = yaml.load(config)\n",
    "for k,v in config_data.items():\n",
    "    if type(v) is dict:\n",
    "        print(\"|-\",k)\n",
    "        for kk,vv in v.items():\n",
    "            print(\"    |-\",kk,\":\",vv)\n",
    "    else:\n",
    "        print(\"|-\",k,\":\",v)\n",
    "            "
   ]
  },
  {
   "cell_type": "markdown",
   "metadata": {},
   "source": [
    "# Strategy Sesign"
   ]
  },
  {
   "cell_type": "markdown",
   "metadata": {},
   "source": [
    "在这个方法中编写任何的初始化逻辑。context对象将会在你的算法策略的任何方法之间做传递。\n",
    "```python\n",
    "def init(context):\n",
    "    logger.info(\"init\")\n",
    "    context.s1 = \"000001.XSHE\"\n",
    "    update_universe(context.s1)\n",
    "    # 是否已发送了order\n",
    "    context.fired = False\n",
    "    context.cnt = 1\n",
    "\n",
    "\n",
    "def before_trading(context):\n",
    "    logger.info(\"Before Trading\", context.cnt)\n",
    "    context.cnt += 1\n",
    "```\n",
    "\n",
    "你选择的证券的数据更新将会触发此段逻辑，例如日或分钟历史数据切片或者是实时数据切片更新\n",
    "```python\n",
    "def handle_bar(context, bar_dict):\n",
    "    context.cnt += 1\n",
    "    logger.info(\"handle_bar\", context.cnt)\n",
    "    # 开始编写你的主要的算法逻辑\n",
    "\n",
    "    # bar_dict[order_book_id] 可以拿到某个证券的bar信息\n",
    "    # context.portfolio 可以拿到现在的投资组合状态信息\n",
    "\n",
    "    # 使用order_shares(id_or_ins, amount)方法进行落单\n",
    "\n",
    "    # TODO: 开始编写你的算法吧！\n",
    "    if not context.fired:\n",
    "        # order_percent并且传入1代表买入该股票并且使其占有投资组合的100%\n",
    "        order_percent(context.s1, 1)\n",
    "        context.fired = True\n",
    "```"
   ]
  },
  {
   "cell_type": "markdown",
   "metadata": {},
   "source": [
    "## 策略实践\n",
    "### 单股票Golden Cross"
   ]
  },
  {
   "cell_type": "code",
   "execution_count": 7,
   "metadata": {},
   "outputs": [],
   "source": [
    "import talib\n",
    "\n",
    "\n",
    "# 在这个方法中编写任何的初始化逻辑。context对象将会在你的算法策略的任何方法之间做传递。\n",
    "def init(context):\n",
    "    context.s1 = \"000001.XSHE\"\n",
    "\n",
    "    # 设置这个策略当中会用到的参数，在策略中可以随时调用，这个策略使用长短均线，我们在这里设定长线和短线的区间，在调试寻找最佳区间的时候只需要在这里进行数值改动\n",
    "    context.SHORTPERIOD = 20\n",
    "    context.LONGPERIOD = 120\n",
    "\n",
    "\n",
    "# 你选择的证券的数据更新将会触发此段逻辑，例如日或分钟历史数据切片或者是实时数据切片更新\n",
    "def handle_bar(context, bar_dict):\n",
    "    # 开始编写你的主要的算法逻辑\n",
    "\n",
    "    # bar_dict[order_book_id] 可以拿到某个证券的bar信息\n",
    "    # context.portfolio 可以拿到现在的投资组合状态信息\n",
    "\n",
    "    # 使用order_shares(id_or_ins, amount)方法进行落单\n",
    "\n",
    "    # TODO: 开始编写你的算法吧！\n",
    "\n",
    "    # 因为策略需要用到均线，所以需要读取历史数据\n",
    "    prices = history_bars(context.s1, context.LONGPERIOD+1, '1d', 'close')\n",
    "\n",
    "    # 使用talib计算长短两根均线，均线以array的格式表达\n",
    "    short_avg = talib.SMA(prices, context.SHORTPERIOD)\n",
    "    long_avg = talib.SMA(prices, context.LONGPERIOD)\n",
    "\n",
    "    plot(\"short avg\", short_avg[-1])\n",
    "    plot(\"long avg\", long_avg[-1])\n",
    "\n",
    "    # 获取当前投资组合中股票的仓位\n",
    "    cur_position = get_position(context.s1).quantity\n",
    "    # 计算现在portfolio中的现金可以购买多少股票\n",
    "    shares = context.portfolio.cash/bar_dict[context.s1].close\n",
    "\n",
    "    # 如果短均线从上往下跌破长均线，也就是在目前的bar短线平均值低于长线平均值，而上一个bar的短线平均值高于长线平均值\n",
    "    if short_avg[-1] - long_avg[-1] < 0 and short_avg[-2] - long_avg[-2] > 0 and cur_position > 0:\n",
    "        # 进行清仓\n",
    "        order_target_value(context.s1, 0)\n",
    "\n",
    "    # 如果短均线从下往上突破长均线，为入场信号\n",
    "    if short_avg[-1] - long_avg[-1] > 0 and short_avg[-2] - long_avg[-2] < 0:\n",
    "        # 满仓入股\n",
    "        order_shares(context.s1, shares)"
   ]
  },
  {
   "cell_type": "markdown",
   "metadata": {},
   "source": [
    "# Back Test"
   ]
  },
  {
   "cell_type": "code",
   "execution_count": 3,
   "metadata": {},
   "outputs": [],
   "source": [
    "from rqalpha.api import *\n",
    "from rqalpha import run_func"
   ]
  },
  {
   "cell_type": "code",
   "execution_count": 7,
   "metadata": {},
   "outputs": [],
   "source": [
    "config = {\n",
    "  \"base\": {\n",
    "    \"start_date\": \"2020-06-01\",\n",
    "    \"end_date\": \"2020-12-01\",\n",
    "    \"benchmark\": \"000300.XSHG\",\n",
    "    \"accounts\": {\n",
    "        \"stock\": 100000\n",
    "    }\n",
    "  },\n",
    "  \"extra\": {\n",
    "    \"log_level\": \"error\",\n",
    "  },\n",
    "  \"mod\": {\n",
    "    \"sys_progress\": {\n",
    "        \"enabled\": True,\n",
    "        \"show\": True,\n",
    "    },\n",
    "    \"sys_analyser\": {\n",
    "      \"enabled\": True,\n",
    "      \"plot\": True\n",
    "    }\n",
    "  }\n",
    "}"
   ]
  },
  {
   "cell_type": "markdown",
   "metadata": {},
   "source": [
    "## Documment\n",
    "https://rqalpha.readthedocs.io/zh_CN/latest/"
   ]
  },
  {
   "cell_type": "code",
   "execution_count": 4,
   "metadata": {},
   "outputs": [
    {
     "ename": "NameError",
     "evalue": "name 'init' is not defined",
     "output_type": "error",
     "traceback": [
      "\u001b[0;31m---------------------------------------------------------------------------\u001b[0m",
      "\u001b[0;31mNameError\u001b[0m                                 Traceback (most recent call last)",
      "\u001b[0;32m<ipython-input-4-35424b09b3e7>\u001b[0m in \u001b[0;36m<module>\u001b[0;34m\u001b[0m\n\u001b[0;32m----> 1\u001b[0;31m run_func(init=init, \n\u001b[0m\u001b[1;32m      2\u001b[0m \u001b[0;31m#          before_trading=before_trading,\u001b[0m\u001b[0;34m\u001b[0m\u001b[0;34m\u001b[0m\u001b[0m\n\u001b[1;32m      3\u001b[0m          \u001b[0mhandle_bar\u001b[0m\u001b[0;34m=\u001b[0m\u001b[0mhandle_bar\u001b[0m\u001b[0;34m,\u001b[0m\u001b[0;34m\u001b[0m\u001b[0m\n\u001b[1;32m      4\u001b[0m          \u001b[0mconfig\u001b[0m\u001b[0;34m=\u001b[0m\u001b[0mconfig\u001b[0m\u001b[0;34m\u001b[0m\u001b[0m\n\u001b[1;32m      5\u001b[0m         )\n",
      "\u001b[0;31mNameError\u001b[0m: name 'init' is not defined"
     ]
    }
   ],
   "source": [
    "run_func(init=init, \n",
    "#          before_trading=before_trading, \n",
    "         handle_bar=handle_bar, \n",
    "         config=config\n",
    "        )"
   ]
  },
  {
   "cell_type": "markdown",
   "metadata": {},
   "source": [
    "# 多股票RSI\n",
    "## 策略：\n",
    "RSI= [上升平均数÷ (上升平均数+下跌平均数)]×100，或者RSI=100×RS/ (1+RS)，或者，RSI=100-100÷ (1+RS)。 "
   ]
  },
  {
   "cell_type": "code",
   "execution_count": 10,
   "metadata": {},
   "outputs": [],
   "source": [
    "import talib\n",
    "\n",
    "# 在这个方法中编写任何的初始化逻辑。context对象将会在你的算法策略的任何方法之间做传递。\n",
    "def init(context):\n",
    "\n",
    "    # 选择我们感兴趣的股票\n",
    "    context.s1 = \"600519.XSHG\"\n",
    "    context.s2 = \"002049.XSHE\"\n",
    "    context.s3 = \"688981.XSHG\"\n",
    "    context.s4 = \"000063.XSHE\"\n",
    "    context.stocks = [context.s1, context.s2, context.s3]\n",
    "\n",
    "    context.TIME_PERIOD = 14\n",
    "    context.HIGH_RSI = 85\n",
    "    context.LOW_RSI = 30\n",
    "    context.ORDER_PERCENT = 0.3\n",
    "\n",
    "\n",
    "# 你选择的证券的数据更新将会触发此段逻辑，例如日或分钟历史数据切片或者是实时数据切片更新\n",
    "def handle_bar(context, bar_dict):\n",
    "    # 开始编写你的主要的算法逻辑\n",
    "\n",
    "    # bar_dict[order_book_id] 可以拿到某个证券的bar信息\n",
    "    # context.portfolio 可以拿到现在的投资组合状态信息\n",
    "\n",
    "    # 使用order_shares(id_or_ins, amount)方法进行落单\n",
    "\n",
    "    # TODO: 开始编写你的算法吧！\n",
    "\n",
    "    # 对我们选中的股票集合进行loop，运算每一只股票的RSI数值\n",
    "    for stock in context.stocks:\n",
    "        # 读取历史数据\n",
    "        prices = history_bars(stock, context.TIME_PERIOD+1, '1d', 'close')\n",
    "\n",
    "        # 用Talib计算RSI值\n",
    "        rsi_data = talib.RSI(prices, timeperiod=context.TIME_PERIOD)[-1]\n",
    "\n",
    "        cur_position = get_position(stock).quantity\n",
    "        # 用剩余现金的30%来购买新的股票\n",
    "        target_available_cash = context.portfolio.cash * context.ORDER_PERCENT\n",
    "\n",
    "        # 当RSI大于设置的上限阀值，清仓该股票\n",
    "        if rsi_data > context.HIGH_RSI and cur_position > 0:\n",
    "            order_target_value(stock, 0)\n",
    "\n",
    "        # 当RSI小于设置的下限阀值，用剩余cash的一定比例补仓该股\n",
    "        if rsi_data < context.LOW_RSI:\n",
    "            logger.info(\"target available cash caled: \" + str(target_available_cash))\n",
    "            # 如果剩余的现金不够一手 - 100shares，那么会被ricequant 的order management system reject掉\n",
    "            order_value(stock, target_available_cash)"
   ]
  },
  {
   "cell_type": "code",
   "execution_count": 11,
   "metadata": {},
   "outputs": [
    {
     "name": "stderr",
     "output_type": "stream",
     "text": [
      "[2020-06-01 15:00:00.000000] ERROR: user_system_log: 策略运行产生异常\n",
      "Traceback (most recent call last):\n",
      "  File \"/Users/winshare/anaconda3/envs/workspace/lib/python3.7/site-packages/rqalpha/core/strategy.py\", line 92, in handle_bar\n",
      "    self._handle_bar(self._user_context, bar_dict)\n",
      "  File \"<ipython-input-10-68d9789a101b>\", line 33, in handle_bar\n",
      "    prices = history_bars(stock, context.TIME_PERIOD+1, '1d', 'close')\n",
      "  File \"/Users/winshare/anaconda3/envs/workspace/lib/python3.7/site-packages/rqalpha/core/execution_context.py\", line 112, in wrapper\n",
      "    return func(*args, **kwargs)\n",
      "  File \"/Users/winshare/anaconda3/envs/workspace/lib/python3.7/site-packages/rqalpha/utils/arg_checker.py\", line 439, in api_rule_check_wrapper\n",
      "    with checker.check(func, args, kwargs):\n",
      "  File \"/Users/winshare/anaconda3/envs/workspace/lib/python3.7/contextlib.py\", line 112, in __enter__\n",
      "    return next(self.gen)\n",
      "  File \"/Users/winshare/anaconda3/envs/workspace/lib/python3.7/site-packages/rqalpha/utils/arg_checker.py\", line 408, in check\n",
      "    r.verify(func.__name__, call_args)\n",
      "  File \"/Users/winshare/anaconda3/envs/workspace/lib/python3.7/site-packages/rqalpha/utils/arg_checker.py\", line 357, in verify\n",
      "    r(func_name, value)\n",
      "  File \"/Users/winshare/anaconda3/envs/workspace/lib/python3.7/site-packages/rqalpha/utils/arg_checker.py\", line 107, in _is_listed_instrument\n",
      "    self.raise_instrument_not_listed_error(func_name, value)\n",
      "  File \"/Users/winshare/anaconda3/envs/workspace/lib/python3.7/site-packages/rqalpha/utils/arg_checker.py\", line 67, in raise_instrument_not_listed_error\n",
      "    return self.raise_instrument_error(func_name, value, _(\"listed order_book_id/instrument\"))\n",
      "  File \"/Users/winshare/anaconda3/envs/workspace/lib/python3.7/site-packages/rqalpha/utils/arg_checker.py\", line 72, in raise_instrument_error\n",
      "    ).format(func_name, self._arg_name, instrument_info, value, type(value)))\n",
      "rqalpha.utils.exception.RQInvalidArgument: function history_bars: invalid order_book_id argument, expected a listed order_book_id/instrument, got 688981.XSHG (type: <class 'str'>)\n",
      "\n",
      "During handling of the above exception, another exception occurred:\n",
      "\n",
      "Traceback (most recent call last):\n",
      "  File \"/Users/winshare/anaconda3/envs/workspace/lib/python3.7/site-packages/rqalpha/main.py\", line 215, in run\n",
      "    executor.run(bar_dict)\n",
      "  File \"/Users/winshare/anaconda3/envs/workspace/lib/python3.7/site-packages/rqalpha/core/executor.py\", line 47, in run\n",
      "    self._split_and_publish(event)\n",
      "  File \"/Users/winshare/anaconda3/envs/workspace/lib/python3.7/site-packages/rqalpha/core/executor.py\", line 99, in _split_and_publish\n",
      "    self._env.event_bus.publish_event(e)\n",
      "  File \"/Users/winshare/anaconda3/envs/workspace/lib/python3.7/site-packages/rqalpha/core/events.py\", line 42, in publish_event\n",
      "    if listener(event):\n",
      "  File \"/Users/winshare/anaconda3/envs/workspace/lib/python3.7/site-packages/rqalpha/core/strategy.py\", line 34, in wrapper\n",
      "    return func(*args, **kwargs)\n",
      "  File \"/Users/winshare/anaconda3/envs/workspace/lib/python3.7/site-packages/rqalpha/core/strategy.py\", line 92, in handle_bar\n",
      "    self._handle_bar(self._user_context, bar_dict)\n",
      "  File \"/Users/winshare/anaconda3/envs/workspace/lib/python3.7/site-packages/rqalpha/core/execution_context.py\", line 100, in __exit__\n",
      "    raise user_exc\n",
      "rqalpha.utils.exception.CustomException: function history_bars: invalid order_book_id argument, expected a listed order_book_id/instrument, got 688981.XSHG (type: <class 'str'>)\n",
      "[2020-06-01 15:00:00.000000] ERROR: user_system_log: function history_bars: invalid order_book_id argument, expected a listed order_book_id/instrument, got 688981.XSHG (type: <class 'str'>)\n"
     ]
    }
   ],
   "source": [
    "run_func(init=init, \n",
    "#          before_trading=before_trading, \n",
    "         handle_bar=handle_bar, \n",
    "         config=config\n",
    "        )"
   ]
  },
  {
   "cell_type": "code",
   "execution_count": null,
   "metadata": {},
   "outputs": [],
   "source": []
  }
 ],
 "metadata": {
  "kernelspec": {
   "display_name": "Python 3",
   "language": "python",
   "name": "python3"
  },
  "language_info": {
   "codemirror_mode": {
    "name": "ipython",
    "version": 3
   },
   "file_extension": ".py",
   "mimetype": "text/x-python",
   "name": "python",
   "nbconvert_exporter": "python",
   "pygments_lexer": "ipython3",
   "version": "3.7.0"
  }
 },
 "nbformat": 4,
 "nbformat_minor": 4
}
