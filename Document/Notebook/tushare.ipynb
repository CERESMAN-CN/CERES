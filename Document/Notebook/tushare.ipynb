{
 "cells": [
  {
   "cell_type": "markdown",
   "metadata": {},
   "source": [
    "# Tushare "
   ]
  },
  {
   "cell_type": "code",
   "execution_count": 1,
   "metadata": {},
   "outputs": [],
   "source": [
    "import tushare as ts\n",
    "token = '5d198053f8882784d333645e1279bc0228a05bb8427dd1cc1f1a0b8b'\n",
    "ts_client = ts.pro_api(token)"
   ]
  },
  {
   "cell_type": "code",
   "execution_count": 2,
   "metadata": {},
   "outputs": [],
   "source": [
    "\n",
    "df = ts_client.daily(ts_code='600000.SH', start_date='20180701', end_date='20180718')"
   ]
  },
  {
   "cell_type": "code",
   "execution_count": 3,
   "metadata": {},
   "outputs": [
    {
     "name": "stdout",
     "output_type": "stream",
     "text": [
      "      ts_code trade_date  open  high   low  close  pre_close  change  pct_chg  \\\n",
      "0   600000.SH   20180718  9.51  9.64  9.48   9.51       9.44    0.07     0.74   \n",
      "1   600000.SH   20180717  9.41  9.48  9.38   9.44       9.41    0.03     0.32   \n",
      "2   600000.SH   20180716  9.50  9.54  9.34   9.41       9.49   -0.08    -0.84   \n",
      "3   600000.SH   20180713  9.57  9.58  9.46   9.49       9.47    0.02     0.21   \n",
      "4   600000.SH   20180712  9.41  9.61  9.39   9.57       9.38    0.19     2.03   \n",
      "5   600000.SH   20180711  9.37  9.44  9.32   9.38       9.57   -0.19    -1.99   \n",
      "6   600000.SH   20180710  9.61  9.65  9.50   9.57       9.60   -0.03    -0.31   \n",
      "7   600000.SH   20180709  9.37  9.63  9.37   9.60       9.37    0.23     2.45   \n",
      "8   600000.SH   20180706  9.31  9.43  9.17   9.37       9.26    0.11     1.19   \n",
      "9   600000.SH   20180705  9.26  9.35  9.22   9.26       9.31   -0.05    -0.54   \n",
      "10  600000.SH   20180704  9.34  9.42  9.28   9.31       9.35   -0.04    -0.43   \n",
      "11  600000.SH   20180703  9.29  9.38  9.20   9.35       9.29    0.06     0.65   \n",
      "12  600000.SH   20180702  9.55  9.55  9.23   9.29       9.56   -0.27    -2.82   \n",
      "\n",
      "          vol      amount  \n",
      "0   189227.00  180858.003  \n",
      "1   137134.95  129512.091  \n",
      "2   144141.19  135697.106  \n",
      "3   150263.39  142708.347  \n",
      "4   197048.37  188206.858  \n",
      "5   152039.33  142450.919  \n",
      "6   124028.37  118668.133  \n",
      "7   221725.65  212109.327  \n",
      "8   225944.43  210564.106  \n",
      "9   164954.38  152978.661  \n",
      "10  144647.77  135000.876  \n",
      "11  241235.51  224816.757  \n",
      "12  226690.89  212743.905  \n"
     ]
    }
   ],
   "source": [
    "print(df)"
   ]
  },
  {
   "cell_type": "code",
   "execution_count": null,
   "metadata": {},
   "outputs": [],
   "source": []
  },
  {
   "cell_type": "code",
   "execution_count": null,
   "metadata": {},
   "outputs": [],
   "source": []
  }
 ],
 "metadata": {
  "kernelspec": {
   "display_name": "Python 3",
   "language": "python",
   "name": "python3"
  },
  "language_info": {
   "codemirror_mode": {
    "name": "ipython",
    "version": 3
   },
   "file_extension": ".py",
   "mimetype": "text/x-python",
   "name": "python",
   "nbconvert_exporter": "python",
   "pygments_lexer": "ipython3",
   "version": "3.7.0"
  }
 },
 "nbformat": 4,
 "nbformat_minor": 4
}
